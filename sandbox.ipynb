{
 "cells": [
  {
   "cell_type": "markdown",
   "metadata": {},
   "source": [
    "# notion-todo-sync sandbox\n",
    "Look at how the code works, mainly as a reference for me to understand what the hell I've done and why (I hate web stuff 😿). Can't wait for Notion to refactor their API!!!"
   ]
  },
  {
   "cell_type": "markdown",
   "metadata": {},
   "source": [
    "### Setup and init"
   ]
  },
  {
   "cell_type": "code",
   "execution_count": null,
   "metadata": {},
   "outputs": [],
   "source": [
    "import requests as req\n",
    "\n",
    "# for secrets\n",
    "import os\n",
    "from dotenv import load_dotenv\n",
    "load_dotenv()\n",
    "\n",
    "# for dotenv to work in IPython\n",
    "%load_ext dotenv\n",
    "%dotenv"
   ]
  },
  {
   "cell_type": "markdown",
   "metadata": {},
   "source": [
    "## How it works\n",
    "Execute the following every 20 seconds (this timing isn't dealt with in this script; we're CRON-jobbing for that):\n",
    "1. Fetch the to-do database from Notion\n",
    "2. Parse each page within to check if it has a `properties.Project.relation.id` key\n",
    "   1. For pages that do, fetch from Notion the `properties.Origin.relation.id` from the `properties.Project.relation.id`\n",
    "      1. Check against `properties.Origin.relation.id`\n",
    "         1. If it matches, do nothing\n",
    "         2. If it doesn't match, push to Notion the new `properties.Origin.relation.id`\n",
    "\n",
    "## Limitations\n",
    "- Does not work properly if the database has over 100 entries (Notion will only send first 100; requires extending to work)\n",
    "\n",
    "## Code"
   ]
  },
  {
   "cell_type": "markdown",
   "metadata": {},
   "source": [
    "### Create method which obtain's a page's `properties.Project`'s `properties.Origin` name"
   ]
  },
  {
   "cell_type": "code",
   "execution_count": 123,
   "metadata": {},
   "outputs": [],
   "source": [
    "def parse_project_origin_name(project_id):\n",
    "    # Fetch project page from Notion and extract only its 'Origin' property's page ID\n",
    "    origin_id = req.get(\n",
    "        f'https://api.notion.com/v1/pages/{project_id}',\n",
    "        headers={\n",
    "            'Authorization': f\"Bearer {os.environ.get('NOTION_INTEGRATION_API_KEY')}\",\n",
    "            'Notion-Version': '2022-02-22'\n",
    "        }\n",
    "    ).json().get('properties').get('Origin').get('relation')[0].get('id')\n",
    "\n",
    "    # Fetch origin page from Notion and extract only the page's plaintext name\n",
    "    origin_name = req.get(\n",
    "        f'https://api.notion.com/v1/pages/{origin_id}',\n",
    "        headers={\n",
    "            'Authorization': f\"Bearer {os.environ.get('NOTION_INTEGRATION_API_KEY')}\",\n",
    "            'Notion-Version': '2022-02-22'\n",
    "        }\n",
    "    ).json().get('properties').get('Name').get('title')[0].get('plain_text')\n",
    "\n",
    "    return origin_name"
   ]
  },
  {
   "cell_type": "markdown",
   "metadata": {},
   "source": [
    "### Create method which updates a page's `properties.Origin` with a given new name"
   ]
  },
  {
   "cell_type": "code",
   "execution_count": 124,
   "metadata": {},
   "outputs": [],
   "source": [
    "def set_new_origin_name(page_id, origin_name):\n",
    "    req.patch(\n",
    "        f'https://api.notion.com/v1/pages/{page_id}',\n",
    "        headers={\n",
    "            'Authorization': f\"Bearer {os.environ.get('NOTION_INTEGRATION_API_KEY')}\",\n",
    "            'Notion-Version': '2022-02-22'\n",
    "        },\n",
    "        json={\n",
    "            \"properties\": {\n",
    "                \"Origin\": {\n",
    "                    \"select\": {\n",
    "                        \"name\": origin_name\n",
    "                    }\n",
    "                }\n",
    "            }\n",
    "        }\n",
    "    )"
   ]
  },
  {
   "cell_type": "markdown",
   "metadata": {},
   "source": [
    "### Fetch To-do DB from Notion"
   ]
  },
  {
   "cell_type": "code",
   "execution_count": 125,
   "metadata": {},
   "outputs": [],
   "source": [
    "db = req.post(\n",
    "    f'https://api.notion.com/v1/databases/{os.environ.get('NOTION_TARGET_DB_ID')}/query',\n",
    "    headers={\n",
    "        'Authorization': f\"Bearer {os.environ.get('NOTION_INTEGRATION_API_KEY')}\",\n",
    "        'Notion-Version': '2022-02-22'\n",
    "    },\n",
    "    json={\n",
    "        \"filter\": {\n",
    "            \"property\": \"Priority\",\n",
    "            \"select\": {\n",
    "                \"does_not_equal\": \"Completed\"\n",
    "            }\n",
    "        }\n",
    "    }\n",
    ")"
   ]
  },
  {
   "cell_type": "markdown",
   "metadata": {},
   "source": [
    "### Update pages in DB if they have missing or incorrect `properties.Origin` names "
   ]
  },
  {
   "cell_type": "code",
   "execution_count": 126,
   "metadata": {},
   "outputs": [],
   "source": [
    "db_pages = db.json()['results']\n",
    "\n",
    "for page in db_pages:\n",
    "    # If the page has a relation\n",
    "    if page.get('properties').get('Project').get('relation'):\n",
    "        project_id = page.get('properties').get('Project').get('relation')[0].get('id')\n",
    "        current_origin_name = page.get('properties').get('Origin').get('select')\n",
    "\n",
    "        # Fetch the correct origin name\n",
    "        origin_name = parse_project_origin_name(project_id)\n",
    "\n",
    "        # If the page's plaintext origin name doesn't match the project's plaintext origin name\n",
    "        # OR the page has no plaintext origin name\n",
    "        if (current_origin_name != origin_name or not current_origin_name):\n",
    "            set_new_origin_name(page.get('id'), origin_name)"
   ]
  },
  {
   "cell_type": "markdown",
   "metadata": {},
   "source": [
    "### We done!"
   ]
  }
 ],
 "metadata": {
  "interpreter": {
   "hash": "801836735b73808141c43c63ba8c851e33669aa8ca927dd0003e39dca5145d91"
  },
  "kernelspec": {
   "display_name": "Python 3.10.2 ('mhweb')",
   "language": "python",
   "name": "python3"
  },
  "language_info": {
   "codemirror_mode": {
    "name": "ipython",
    "version": 3
   },
   "file_extension": ".py",
   "mimetype": "text/x-python",
   "name": "python",
   "nbconvert_exporter": "python",
   "pygments_lexer": "ipython3",
   "version": "3.10.4"
  },
  "orig_nbformat": 4
 },
 "nbformat": 4,
 "nbformat_minor": 2
}
